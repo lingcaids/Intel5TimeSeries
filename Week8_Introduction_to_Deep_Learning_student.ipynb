{
 "cells": [
  {
   "cell_type": "markdown",
   "metadata": {},
   "source": [
    "# Introduction\n",
    "\n",
    "In previous lessons, we've gone from learning the basic components of time series to employing advanced signal transformation techniques. As the culmination of these lessons, we'll now turn toward deep learning as a method for time series forecasting. We'll see how **recurrent neural networks** can automatically learn how to model series components like seasonality and autocorrelation without special preprocessing. In the process, we'll gain exposure to the python library **Keras**, which provides an excellent interface for constructing neural networks. \n",
    "\n",
    "# Learning Outcomes\n",
    "You should walk away from this Python tutorial with:\n",
    "1. A practical understanding of how to build and train a simple RNN or LSTM for time series forecasting, using keras.\n",
    "2. Introductory experience in tuning RNN/LSTM parameters.\n",
    "\n",
    "# Imports"
   ]
  },
  {
   "cell_type": "code",
   "execution_count": 1,
   "metadata": {},
   "outputs": [
    {
     "name": "stderr",
     "output_type": "stream",
     "text": [
      "Using TensorFlow backend.\n"
     ]
    }
   ],
   "source": [
    "# %matplotlib inline\n",
    "\n",
    "import sys\n",
    "import numpy as np\n",
    "import matplotlib\n",
    "import matplotlib.pyplot as plt\n",
    "plt.style.use('fivethirtyeight')\n",
    "import pandas as pd\n",
    "\n",
    "import keras\n",
    "from keras.models import Sequential\n",
    "from keras.layers import Dense, SimpleRNN, LSTM"
   ]
  },
  {
   "cell_type": "markdown",
   "metadata": {},
   "source": [
    "# Python & Library Versions"
   ]
  },
  {
   "cell_type": "code",
   "execution_count": 2,
   "metadata": {
    "scrolled": true
   },
   "outputs": [
    {
     "name": "stdout",
     "output_type": "stream",
     "text": [
      "3.7.3 (default, Apr 24 2019, 15:29:51) [MSC v.1915 64 bit (AMD64)] \n",
      "\n",
      "library    version\n",
      "------------------\n",
      "matplotlib  3.1.0\n",
      "numpy       1.16.4\n",
      "pandas      0.24.2\n",
      "keras       2.3.1\n"
     ]
    }
   ],
   "source": [
    "versions = ( (\"matplotlib\", matplotlib.__version__),\n",
    "            (\"numpy\", np.__version__),\n",
    "            (\"pandas\", pd.__version__),\n",
    "            (\"keras\", keras.__version__) )\n",
    "\n",
    "print(sys.version, \"\\n\")\n",
    "print(\"library\" + \" \" * 4 + \"version\")\n",
    "print(\"-\" * 18)\n",
    "\n",
    "for tup1, tup2 in versions:\n",
    "    print(\"{:11} {}\".format(tup1, tup2))"
   ]
  },
  {
   "cell_type": "markdown",
   "metadata": {},
   "source": [
    "# Section 1: Simple RNN\n",
    "\n",
    "In this section, we will build a recurrent neural network and train it to forecast a single time series. We'll use a dataset provided by the [UCI Machine Learning Repository](https://archive.ics.uci.edu/ml/datasets/PM2.5+Data+of+Five+Chinese+Cities) that measures hourly air quality in Chinese cities/city districts<sup>1</sup>.\n",
    "\n",
    "1. Liang, X., S. Li, S. Zhang, H. Huang, and S. X. Chen (2016), PM2.5 data reliability, consistency, and air quality assessment in five Chinese cities, J. Geophys. Res. Atmos., 121, 10220â€“10236"
   ]
  },
  {
   "cell_type": "markdown",
   "metadata": {},
   "source": [
    "#### Setting Up The Data\n",
    "\n",
    "We'll start by working with Beijing data, and filter the dataset down to records from 2015. "
   ]
  },
  {
   "cell_type": "code",
   "execution_count": 4,
   "metadata": {},
   "outputs": [
    {
     "data": {
      "text/html": [
       "<div>\n",
       "<style scoped>\n",
       "    .dataframe tbody tr th:only-of-type {\n",
       "        vertical-align: middle;\n",
       "    }\n",
       "\n",
       "    .dataframe tbody tr th {\n",
       "        vertical-align: top;\n",
       "    }\n",
       "\n",
       "    .dataframe thead th {\n",
       "        text-align: right;\n",
       "    }\n",
       "</style>\n",
       "<table border=\"1\" class=\"dataframe\">\n",
       "  <thead>\n",
       "    <tr style=\"text-align: right;\">\n",
       "      <th></th>\n",
       "      <th>No</th>\n",
       "      <th>year</th>\n",
       "      <th>month</th>\n",
       "      <th>day</th>\n",
       "      <th>hour</th>\n",
       "      <th>season</th>\n",
       "      <th>PM_Dongsi</th>\n",
       "      <th>PM_Dongsihuan</th>\n",
       "      <th>PM_Nongzhanguan</th>\n",
       "      <th>PM_US Post</th>\n",
       "      <th>DEWP</th>\n",
       "      <th>HUMI</th>\n",
       "      <th>PRES</th>\n",
       "      <th>TEMP</th>\n",
       "      <th>cbwd</th>\n",
       "      <th>Iws</th>\n",
       "      <th>precipitation</th>\n",
       "      <th>Iprec</th>\n",
       "    </tr>\n",
       "  </thead>\n",
       "  <tbody>\n",
       "    <tr>\n",
       "      <th>43824</th>\n",
       "      <td>43825</td>\n",
       "      <td>2015</td>\n",
       "      <td>1</td>\n",
       "      <td>1</td>\n",
       "      <td>0</td>\n",
       "      <td>4</td>\n",
       "      <td>5.0</td>\n",
       "      <td>32.0</td>\n",
       "      <td>8.0</td>\n",
       "      <td>22.0</td>\n",
       "      <td>-21.0</td>\n",
       "      <td>29.0</td>\n",
       "      <td>1034.0</td>\n",
       "      <td>-6.0</td>\n",
       "      <td>SE</td>\n",
       "      <td>0.89</td>\n",
       "      <td>0.0</td>\n",
       "      <td>0.0</td>\n",
       "    </tr>\n",
       "    <tr>\n",
       "      <th>43825</th>\n",
       "      <td>43826</td>\n",
       "      <td>2015</td>\n",
       "      <td>1</td>\n",
       "      <td>1</td>\n",
       "      <td>1</td>\n",
       "      <td>4</td>\n",
       "      <td>4.0</td>\n",
       "      <td>12.0</td>\n",
       "      <td>7.0</td>\n",
       "      <td>9.0</td>\n",
       "      <td>-22.0</td>\n",
       "      <td>23.0</td>\n",
       "      <td>1034.0</td>\n",
       "      <td>-4.0</td>\n",
       "      <td>NW</td>\n",
       "      <td>4.92</td>\n",
       "      <td>0.0</td>\n",
       "      <td>0.0</td>\n",
       "    </tr>\n",
       "    <tr>\n",
       "      <th>43826</th>\n",
       "      <td>43827</td>\n",
       "      <td>2015</td>\n",
       "      <td>1</td>\n",
       "      <td>1</td>\n",
       "      <td>2</td>\n",
       "      <td>4</td>\n",
       "      <td>3.0</td>\n",
       "      <td>19.0</td>\n",
       "      <td>7.0</td>\n",
       "      <td>9.0</td>\n",
       "      <td>-21.0</td>\n",
       "      <td>27.0</td>\n",
       "      <td>1034.0</td>\n",
       "      <td>-5.0</td>\n",
       "      <td>NW</td>\n",
       "      <td>8.94</td>\n",
       "      <td>0.0</td>\n",
       "      <td>0.0</td>\n",
       "    </tr>\n",
       "    <tr>\n",
       "      <th>43827</th>\n",
       "      <td>43828</td>\n",
       "      <td>2015</td>\n",
       "      <td>1</td>\n",
       "      <td>1</td>\n",
       "      <td>3</td>\n",
       "      <td>4</td>\n",
       "      <td>4.0</td>\n",
       "      <td>9.0</td>\n",
       "      <td>11.0</td>\n",
       "      <td>13.0</td>\n",
       "      <td>-21.0</td>\n",
       "      <td>29.0</td>\n",
       "      <td>1035.0</td>\n",
       "      <td>-6.0</td>\n",
       "      <td>NW</td>\n",
       "      <td>12.96</td>\n",
       "      <td>0.0</td>\n",
       "      <td>0.0</td>\n",
       "    </tr>\n",
       "    <tr>\n",
       "      <th>43828</th>\n",
       "      <td>43829</td>\n",
       "      <td>2015</td>\n",
       "      <td>1</td>\n",
       "      <td>1</td>\n",
       "      <td>4</td>\n",
       "      <td>4</td>\n",
       "      <td>3.0</td>\n",
       "      <td>11.0</td>\n",
       "      <td>5.0</td>\n",
       "      <td>10.0</td>\n",
       "      <td>-21.0</td>\n",
       "      <td>27.0</td>\n",
       "      <td>1034.0</td>\n",
       "      <td>-5.0</td>\n",
       "      <td>NW</td>\n",
       "      <td>16.98</td>\n",
       "      <td>0.0</td>\n",
       "      <td>0.0</td>\n",
       "    </tr>\n",
       "    <tr>\n",
       "      <th>43829</th>\n",
       "      <td>43830</td>\n",
       "      <td>2015</td>\n",
       "      <td>1</td>\n",
       "      <td>1</td>\n",
       "      <td>5</td>\n",
       "      <td>4</td>\n",
       "      <td>3.0</td>\n",
       "      <td>18.0</td>\n",
       "      <td>3.0</td>\n",
       "      <td>6.0</td>\n",
       "      <td>-22.0</td>\n",
       "      <td>23.0</td>\n",
       "      <td>1034.0</td>\n",
       "      <td>-4.0</td>\n",
       "      <td>NW</td>\n",
       "      <td>24.13</td>\n",
       "      <td>0.0</td>\n",
       "      <td>0.0</td>\n",
       "    </tr>\n",
       "    <tr>\n",
       "      <th>43830</th>\n",
       "      <td>43831</td>\n",
       "      <td>2015</td>\n",
       "      <td>1</td>\n",
       "      <td>1</td>\n",
       "      <td>6</td>\n",
       "      <td>4</td>\n",
       "      <td>3.0</td>\n",
       "      <td>20.0</td>\n",
       "      <td>6.0</td>\n",
       "      <td>8.0</td>\n",
       "      <td>-23.0</td>\n",
       "      <td>22.0</td>\n",
       "      <td>1034.0</td>\n",
       "      <td>-5.0</td>\n",
       "      <td>NW</td>\n",
       "      <td>25.92</td>\n",
       "      <td>0.0</td>\n",
       "      <td>0.0</td>\n",
       "    </tr>\n",
       "    <tr>\n",
       "      <th>43831</th>\n",
       "      <td>43832</td>\n",
       "      <td>2015</td>\n",
       "      <td>1</td>\n",
       "      <td>1</td>\n",
       "      <td>7</td>\n",
       "      <td>4</td>\n",
       "      <td>3.0</td>\n",
       "      <td>22.0</td>\n",
       "      <td>7.0</td>\n",
       "      <td>17.0</td>\n",
       "      <td>-22.0</td>\n",
       "      <td>26.0</td>\n",
       "      <td>1035.0</td>\n",
       "      <td>-6.0</td>\n",
       "      <td>SE</td>\n",
       "      <td>1.79</td>\n",
       "      <td>0.0</td>\n",
       "      <td>0.0</td>\n",
       "    </tr>\n",
       "    <tr>\n",
       "      <th>43832</th>\n",
       "      <td>43833</td>\n",
       "      <td>2015</td>\n",
       "      <td>1</td>\n",
       "      <td>1</td>\n",
       "      <td>8</td>\n",
       "      <td>4</td>\n",
       "      <td>NaN</td>\n",
       "      <td>NaN</td>\n",
       "      <td>NaN</td>\n",
       "      <td>11.0</td>\n",
       "      <td>-22.0</td>\n",
       "      <td>29.0</td>\n",
       "      <td>1035.0</td>\n",
       "      <td>-7.0</td>\n",
       "      <td>cv</td>\n",
       "      <td>0.89</td>\n",
       "      <td>0.0</td>\n",
       "      <td>0.0</td>\n",
       "    </tr>\n",
       "    <tr>\n",
       "      <th>43833</th>\n",
       "      <td>43834</td>\n",
       "      <td>2015</td>\n",
       "      <td>1</td>\n",
       "      <td>1</td>\n",
       "      <td>9</td>\n",
       "      <td>4</td>\n",
       "      <td>5.0</td>\n",
       "      <td>37.0</td>\n",
       "      <td>11.0</td>\n",
       "      <td>33.0</td>\n",
       "      <td>-22.0</td>\n",
       "      <td>24.0</td>\n",
       "      <td>1035.0</td>\n",
       "      <td>-5.0</td>\n",
       "      <td>NE</td>\n",
       "      <td>1.79</td>\n",
       "      <td>0.0</td>\n",
       "      <td>0.0</td>\n",
       "    </tr>\n",
       "  </tbody>\n",
       "</table>\n",
       "</div>"
      ],
      "text/plain": [
       "          No  year  month  day  hour  season  PM_Dongsi  PM_Dongsihuan  \\\n",
       "43824  43825  2015      1    1     0       4        5.0           32.0   \n",
       "43825  43826  2015      1    1     1       4        4.0           12.0   \n",
       "43826  43827  2015      1    1     2       4        3.0           19.0   \n",
       "43827  43828  2015      1    1     3       4        4.0            9.0   \n",
       "43828  43829  2015      1    1     4       4        3.0           11.0   \n",
       "43829  43830  2015      1    1     5       4        3.0           18.0   \n",
       "43830  43831  2015      1    1     6       4        3.0           20.0   \n",
       "43831  43832  2015      1    1     7       4        3.0           22.0   \n",
       "43832  43833  2015      1    1     8       4        NaN            NaN   \n",
       "43833  43834  2015      1    1     9       4        5.0           37.0   \n",
       "\n",
       "       PM_Nongzhanguan  PM_US Post  DEWP  HUMI    PRES  TEMP cbwd    Iws  \\\n",
       "43824              8.0        22.0 -21.0  29.0  1034.0  -6.0   SE   0.89   \n",
       "43825              7.0         9.0 -22.0  23.0  1034.0  -4.0   NW   4.92   \n",
       "43826              7.0         9.0 -21.0  27.0  1034.0  -5.0   NW   8.94   \n",
       "43827             11.0        13.0 -21.0  29.0  1035.0  -6.0   NW  12.96   \n",
       "43828              5.0        10.0 -21.0  27.0  1034.0  -5.0   NW  16.98   \n",
       "43829              3.0         6.0 -22.0  23.0  1034.0  -4.0   NW  24.13   \n",
       "43830              6.0         8.0 -23.0  22.0  1034.0  -5.0   NW  25.92   \n",
       "43831              7.0        17.0 -22.0  26.0  1035.0  -6.0   SE   1.79   \n",
       "43832              NaN        11.0 -22.0  29.0  1035.0  -7.0   cv   0.89   \n",
       "43833             11.0        33.0 -22.0  24.0  1035.0  -5.0   NE   1.79   \n",
       "\n",
       "       precipitation  Iprec  \n",
       "43824            0.0    0.0  \n",
       "43825            0.0    0.0  \n",
       "43826            0.0    0.0  \n",
       "43827            0.0    0.0  \n",
       "43828            0.0    0.0  \n",
       "43829            0.0    0.0  \n",
       "43830            0.0    0.0  \n",
       "43831            0.0    0.0  \n",
       "43832            0.0    0.0  \n",
       "43833            0.0    0.0  "
      ]
     },
     "execution_count": 4,
     "metadata": {},
     "output_type": "execute_result"
    }
   ],
   "source": [
    "df_Beijing = pd.read_csv('Beijing.csv')\n",
    "df_Beijing = df_Beijing[df_Beijing.year >= 2015]\n",
    "df_Beijing.head(10)"
   ]
  },
  {
   "cell_type": "markdown",
   "metadata": {},
   "source": [
    "We are interested in attempting to forecast the 'PM' series, which are measurements of air pollution for several different districts.  Note that there are occasional missing values in these series, which we can fill with simple linear interpolation. To start, we'll focus on the \"PM_Dongsi\" series and interpolate the missing values. "
   ]
  },
  {
   "cell_type": "code",
   "execution_count": 5,
   "metadata": {},
   "outputs": [
    {
     "data": {
      "text/plain": [
       "43824    5.0\n",
       "43825    4.0\n",
       "43826    3.0\n",
       "43827    4.0\n",
       "43828    3.0\n",
       "43829    3.0\n",
       "43830    3.0\n",
       "43831    3.0\n",
       "43832    4.0\n",
       "43833    5.0\n",
       "Name: PM_Dongsi, dtype: float64"
      ]
     },
     "execution_count": 5,
     "metadata": {},
     "output_type": "execute_result"
    }
   ],
   "source": [
    "df_Beijing['PM_Dongsi'] = df_Beijing['PM_Dongsi'].interpolate()\n",
    "df_Beijing['PM_Dongsi'].head(10)"
   ]
  },
  {
   "cell_type": "markdown",
   "metadata": {},
   "source": [
    "As usual, it's a good idea for us to generate a run-sequence plot before modeling the data. This way we can get a feel for what we're working with. We'll go ahead and define two utility functions that let us extract and plot the last $n$ days of data (remember that this is an hourly time series, so each day has 24 time steps).   "
   ]
  },
  {
   "cell_type": "code",
   "execution_count": 6,
   "metadata": {},
   "outputs": [],
   "source": [
    "def get_n_last_days(df, series_name, n_days):\n",
    "    \"\"\"\n",
    "    Extract last n_days of an hourly time series\n",
    "    \"\"\"\n",
    "    \n",
    "    return df[series_name][-(24*n_days):] \n",
    "\n",
    "def plot_n_last_days(df, series_name, n_days):\n",
    "    \"\"\"\n",
    "    Plot last n_days of an hourly time series \n",
    "    \"\"\"\n",
    "       \n",
    "    plt.plot(get_n_last_days(df, series_name, n_days), 'k-')\n",
    "    plt.title('{0} Air Quality Time Series - {1} days'\n",
    "              .format(series_name, n_days))\n",
    "    plt.xlabel('Recorded Hour')\n",
    "    plt.ylabel('Reading')\n",
    "    plt.grid(alpha=0.3)"
   ]
  },
  {
   "cell_type": "markdown",
   "metadata": {},
   "source": [
    "What do the last 6 weeks of data look like?"
   ]
  },
  {
   "cell_type": "code",
   "execution_count": 7,
   "metadata": {
    "scrolled": true
   },
   "outputs": [
    {
     "data": {
      "image/png": "[encoded data removed]",
      "text/plain": [
       "<Figure size 432x288 with 1 Axes>"
      ]
     },
     "metadata": {
      "needs_background": "light"
     },
     "output_type": "display_data"
    }
   ],
   "source": [
    "plot_n_last_days(df_Beijing, 'PM_Dongsi', 42)"
   ]
  },
  {
   "cell_type": "markdown",
   "metadata": {},
   "source": [
    "**Review Question**: what components that you've learned in previous lessons appear to be present in this time series? \n",
    "\n",
    "**Answer**: There appears to be a periodic component as well as autocorrelation structure."
   ]
  },
  {
   "cell_type": "markdown",
   "metadata": {},
   "source": [
    "#### Example 1: Train a simple RNN to forecast the PM_Dongsi time series"
   ]
  },
  {
   "cell_type": "markdown",
   "metadata": {},
   "source": [
    "Before we can train a neural network with keras, we need to process the data into a format that the library accepts. In particular, for keras RNNs and LSTMs, training samples should be stored in a 3D numpy array of shape **(n_samples, time_steps, n_features)**. Since we'll be using only the series' history to predict its future, we'll only have 1 feature. Also, for the next-step prediction that we'll do in this notebook, target values can be stored in a simple list.\n",
    "\n",
    "To this end, we define utility functions that allow us to extract the formatted data. The **get_train_test_data** function gives us the flexibility to define the length of the extracted training and test sequences and the number of time steps to use for prediction -- we'll run simple tests of our models by holding out the end of the extracted sequence and generating predictions to compare against the ground truth.\n",
    "\n",
    "Since our model will perform better with multiple training samples, we draw many slices from the entire training sequence, starting at different points in time. The gap between starting points of these slices is controlled by the **sample_gap** parameter."
   ]
  },
  {
   "cell_type": "code",
   "execution_count": 8,
   "metadata": {},
   "outputs": [],
   "source": [
    "def get_keras_format_series(series):\n",
    "    \"\"\"\n",
    "    Convert a series to a numpy array of shape \n",
    "    [n_samples, time_steps, features]\n",
    "    \"\"\"\n",
    "    \n",
    "    series = np.array(series)\n",
    "    return series.reshape(series.shape[0], series.shape[1], 1)\n",
    "\n",
    "def get_train_test_data(df, series_name, series_days, input_hours, \n",
    "                        test_hours, sample_gap=3):\n",
    "    \"\"\"\n",
    "    Utility processing function that splits an hourly time series into \n",
    "    train and test with keras-friendly format, according to user-specified\n",
    "    choice of shape.    \n",
    "    \n",
    "    arguments\n",
    "    ---------\n",
    "    df (dataframe): dataframe with time series columns\n",
    "    series_name (string): column name in df\n",
    "    series_days (int): total days to extract\n",
    "    input_hours (int): length of sequence input to network \n",
    "    test_hours (int): length of held-out terminal sequence\n",
    "    sample_gap (int): step size between start of train sequences; default 5\n",
    "    \n",
    "    returns\n",
    "    ---------\n",
    "    tuple: train_X, test_X_init, train_y, test_y     \n",
    "    \"\"\"\n",
    "    \n",
    "    forecast_series = get_n_last_days(df, series_name, series_days).values\n",
    "\n",
    "    train = forecast_series[:-test_hours]\n",
    "    test = forecast_series[-test_hours:]\n",
    "\n",
    "    train_X, train_y = [], []\n",
    "\n",
    "    for i in range(0, train.shape[0]-input_hours, sample_gap):\n",
    "        train_X.append(train[i:i+input_hours])\n",
    "        train_y.append(train[i+input_hours])\n",
    "\n",
    "    train_X = get_keras_format_series(train_X)    \n",
    "    \n",
    "    test_X_init = test[:input_hours]\n",
    "    test_y = test[input_hours:]\n",
    "    \n",
    "    return train_X, test_X_init, train_y, test_y"
   ]
  },
  {
   "cell_type": "markdown",
   "metadata": {},
   "source": [
    "With the **get_train_test_data** utility function in hand, we're all set to extract keras-friendly arrays and start training simple RNN models. We run this function in the cell below. We use the last 56 days of the PM_Dongsi series, and will train a model that takes in 12 time steps in order to predict the next time step. We use the last day of data for visually testing the model.    "
   ]
  },
  {
   "cell_type": "code",
   "execution_count": 9,
   "metadata": {},
   "outputs": [],
   "source": [
    "series_days = 56\n",
    "input_hours = 12\n",
    "test_hours = 24\n",
    "\n",
    "train_X, test_X_init, train_y, test_y = \\\n",
    "    (get_train_test_data(df_Beijing, 'PM_Dongsi', series_days, \n",
    "                         input_hours, test_hours))"
   ]
  },
  {
   "cell_type": "markdown",
   "metadata": {},
   "source": [
    "Below we see that by taking multiple time slices, we get 436 training samples of 12 time steps each. "
   ]
  },
  {
   "cell_type": "code",
   "execution_count": 10,
   "metadata": {},
   "outputs": [
    {
     "name": "stdout",
     "output_type": "stream",
     "text": [
      "Training shape: (436, 12, 1)\n"
     ]
    }
   ],
   "source": [
    "print('Training shape: {}'.format(train_X.shape))"
   ]
  },
  {
   "cell_type": "markdown",
   "metadata": {},
   "source": [
    "And now we're ready to train! Since we'd like to repeatedly adjust our model's hyperparameters to see what works best, we'll write a reusable function for training a simple RNN model using keras. Take some time to understand what the keras syntax accomplishes at each step and how it relates to what we've learned about RNNs so far.  "
   ]
  },
  {
   "cell_type": "code",
   "execution_count": 11,
   "metadata": {},
   "outputs": [],
   "source": [
    "def fit_SimpleRNN(train_X, train_y, cell_units, epochs):\n",
    "    \"\"\"\n",
    "    Fit Simple RNN to data train_X, train_y \n",
    "    \n",
    "    arguments\n",
    "    ---------\n",
    "    train_X (array): input sequence samples for training \n",
    "    train_y (list): next step in sequence targets\n",
    "    cell_units (int): number of hidden units for RNN cells  \n",
    "    epochs (int): number of training epochs   \n",
    "    \"\"\"\n",
    "    \n",
    "    # initialize model\n",
    "    model = Sequential() \n",
    "    \n",
    "    # construct an RNN layer with specified number of hidden units\n",
    "    # per cell and desired sequence input format \n",
    "    model.add(SimpleRNN(cell_units, input_shape=(train_X.shape[1],1)))\n",
    "    \n",
    "    # add an output layer to make final predictions \n",
    "    model.add(Dense(1))\n",
    "    \n",
    "    # define the loss function / optimization strategy, and fit\n",
    "    # the model with the desired number of passes over the data (epochs) \n",
    "    model.compile(loss='mean_squared_error', optimizer='adam')\n",
    "    model.fit(train_X, train_y, epochs=epochs, batch_size=64, verbose=0)\n",
    "    \n",
    "    return model"
   ]
  },
  {
   "cell_type": "markdown",
   "metadata": {},
   "source": [
    "Great, now let's use this function to fit a very simple baseline model."
   ]
  },
  {
   "cell_type": "code",
   "execution_count": 12,
   "metadata": {},
   "outputs": [],
   "source": [
    "model = fit_SimpleRNN(train_X, train_y, cell_units=10, epochs=10)"
   ]
  },
  {
   "cell_type": "markdown",
   "metadata": {},
   "source": [
    "Not bad so far. But we need to work a bit harder to actually extract multi-step predictions from this model, as it was trained to predict only one future time step. For multi-step forecasting, we'll iteratively generate one prediction, append it to the end of the input sequence (and shift that sequence forward by one step), then feed the new sequence back to the model. We stop once we've generated all the time step predictions we need. \n",
    "\n",
    "This prediction method and a utility function for plotting its output against the ground truth are defined below. Take some time time to familiarize yourself with the prediction method.    "
   ]
  },
  {
   "cell_type": "code",
   "execution_count": 13,
   "metadata": {},
   "outputs": [],
   "source": [
    "def predict(X_init, n_steps, model):\n",
    "    \"\"\"\n",
    "    Given an input series matching the model's expected format,\n",
    "    generates model's predictions for next n_steps in the series      \n",
    "    \"\"\"\n",
    "    \n",
    "    X_init = X_init.copy().reshape(1,-1,1)\n",
    "    preds = []\n",
    "    \n",
    "    # iteratively take current input sequence, generate next step pred,\n",
    "    # and shift input sequence forward by a step (to end with latest pred).\n",
    "    # collect preds as we go.\n",
    "    for _ in range(n_steps):\n",
    "        pred = model.predict(X_init)\n",
    "        preds.append(pred)\n",
    "        X_init[:,:-1,:] = X_init[:,1:,:]\n",
    "        X_init[:,-1,:] = pred\n",
    "    \n",
    "    preds = np.array(preds).reshape(-1,1)\n",
    "    \n",
    "    return preds\n",
    "\n",
    "def predict_and_plot(X_init, y, model, title):\n",
    "    \"\"\"\n",
    "    Given an input series matching the model's expected format,\n",
    "    generates model's predictions for next n_steps in the series,\n",
    "    and plots these predictions against the ground truth for those steps \n",
    "    \n",
    "    arguments\n",
    "    ---------\n",
    "    X_init (array): initial sequence, must match model's input shape\n",
    "    y (array): true sequence values to predict, follow X_init\n",
    "    model (keras.models.Sequential): trained neural network\n",
    "    title (string): plot title   \n",
    "    \"\"\"\n",
    "    \n",
    "    y_preds = predict(test_X_init, n_steps=len(y), model=model) \n",
    "    \n",
    "    start_range = range(1, input_hours+1)\n",
    "    predict_range = range(input_hours, test_hours) \n",
    "    \n",
    "    plt.plot(start_range, test_X_init)\n",
    "    plt.plot(predict_range, test_y, color='orange')\n",
    "    plt.plot(predict_range, y_preds, color='teal', linestyle='--')\n",
    "    \n",
    "    plt.title(title)\n",
    "    plt.legend(['Initial Series','Target Series','Predictions'])"
   ]
  },
  {
   "cell_type": "markdown",
   "metadata": {},
   "source": [
    "Ok, we've finally arrived at the time to see how our baseline model does. We can simply run the **predict_and_plot** function on the extracted test data as below, and inspect the resulting plot. "
   ]
  },
  {
   "cell_type": "code",
   "execution_count": 14,
   "metadata": {},
   "outputs": [
    {
     "data": {
      "image/png": "[encoded data removed]",
      "text/plain": [
       "<Figure size 432x288 with 1 Axes>"
      ]
     },
     "metadata": {
      "needs_background": "light"
     },
     "output_type": "display_data"
    }
   ],
   "source": [
    "predict_and_plot(test_X_init, test_y, model,\n",
    "                 'PM Series: Test Data and Simple RNN Predictions')"
   ]
  },
  {
   "cell_type": "markdown",
   "metadata": {},
   "source": [
    "It looks like our model is badly underfit and essentially just making constant predictions. That's ok, it was a very simple baseline and trained very quickly. \n",
    "\n",
    "We can improve by making the model more expressive, **increasing cell_units**. We can also pass over the training data many more times, **increasing epochs**, giving the model more opportunity to learn the patterns in the data. We'll try that below, it takes a longer time now since our training is more extensive.\n",
    "\n",
    "Note that there is a significant amount of randomness in neural network training - we may need to retrain the model a few times in order to get\n",
    "results that we're happy with."
   ]
  },
  {
   "cell_type": "code",
   "execution_count": 15,
   "metadata": {},
   "outputs": [
    {
     "data": {
      "image/png": "[encoded data removed]",
      "text/plain": [
       "<Figure size 432x288 with 1 Axes>"
      ]
     },
     "metadata": {
      "needs_background": "light"
     },
     "output_type": "display_data"
    }
   ],
   "source": [
    "model = fit_SimpleRNN(train_X, train_y, cell_units=30, epochs=1200)\n",
    "predict_and_plot(test_X_init, test_y, model,\n",
    "                 'PM Series: Test Data and Simple RNN Predictions')"
   ]
  },
  {
   "cell_type": "markdown",
   "metadata": {},
   "source": [
    "We can definitely get better results than before. Note that the model has the capacity to forecast an upward trend based on the trough pattern that occured recently (the input sequence). \n",
    "\n",
    "Once we've created a model object, we can also get information about its structure and number of parameters by using the **summary** function. This is a useful way to measure the complexity of the model and get a feel for how long it may take to train. "
   ]
  },
  {
   "cell_type": "code",
   "execution_count": 16,
   "metadata": {},
   "outputs": [
    {
     "name": "stdout",
     "output_type": "stream",
     "text": [
      "Model: \"sequential_2\"\n",
      "_________________________________________________________________\n",
      "Layer (type)                 Output Shape              Param #   \n",
      "=================================================================\n",
      "simple_rnn_2 (SimpleRNN)     (None, 30)                960       \n",
      "_________________________________________________________________\n",
      "dense_2 (Dense)              (None, 1)                 31        \n",
      "=================================================================\n",
      "Total params: 991\n",
      "Trainable params: 991\n",
      "Non-trainable params: 0\n",
      "_________________________________________________________________\n"
     ]
    }
   ],
   "source": [
    "model.summary()"
   ]
  },
  {
   "cell_type": "markdown",
   "metadata": {},
   "source": [
    "Note that even for this relatively simple model, we already have almost a thousand parameters to train. A larger number of cell units would increase the number of parameters - this is why the training process can become so time consuming.    "
   ]
  },
  {
   "cell_type": "markdown",
   "metadata": {},
   "source": [
    "#### Exercise 1: Train a simple RNN to forecast the PM_Nongzhanguan time series"
   ]
  },
  {
   "cell_type": "markdown",
   "metadata": {},
   "source": [
    "We can reuse all of the functions we've defined so far in order to train models on different time series. In this exercise, you'll train your own model to forecast the \"PM_Nongzhanguan\" series from the Beijing dataframe.\n",
    "\n",
    "**Step 1**: Interpolate the missing values in the \"PM_Nongzhanguan\" series and plot the last 42 days of the series to get a feel for the data. \n",
    "* We'll do this step together to get started"
   ]
  },
  {
   "cell_type": "code",
   "execution_count": 17,
   "metadata": {},
   "outputs": [
    {
     "data": {
      "text/plain": [
       "43824     8.0\n",
       "43825     7.0\n",
       "43826     7.0\n",
       "43827    11.0\n",
       "43828     5.0\n",
       "43829     3.0\n",
       "43830     6.0\n",
       "43831     7.0\n",
       "43832     9.0\n",
       "43833    11.0\n",
       "Name: PM_Nongzhanguan, dtype: float64"
      ]
     },
     "execution_count": 17,
     "metadata": {},
     "output_type": "execute_result"
    }
   ],
   "source": [
    "df_Beijing['PM_Nongzhanguan'] = df_Beijing['PM_Nongzhanguan'].interpolate()\n",
    "df_Beijing['PM_Nongzhanguan'].head(10)"
   ]
  },
  {
   "cell_type": "code",
   "execution_count": 18,
   "metadata": {},
   "outputs": [
    {
     "data": {
      "image/png": "[encoded data removed]",
      "text/plain": [
       "<Figure size 432x288 with 1 Axes>"
      ]
     },
     "metadata": {
      "needs_background": "light"
     },
     "output_type": "display_data"
    }
   ],
   "source": [
    "plot_n_last_days(df_Beijing, 'PM_Nongzhanguan', 42)"
   ]
  },
  {
   "cell_type": "markdown",
   "metadata": {},
   "source": [
    "**Step 2**: Extract the train and test data for the \"PM_Nongzhanguan\" series using the function **get_train_test_data**. Use the following set of parameters:  \n",
    "\n",
    "* **series_days** : 56\n",
    "* **input_hours** : 12\n",
    "* **test_hours** : 48\n",
    "\n",
    "For reference, below is how we called the function earlier on. You can also pull up the function's documentation to review the various arguments. \n",
    "\n",
    "```\n",
    "series_days = 56\n",
    "input_hours = 12\n",
    "test_hours = 24\n",
    "\n",
    "train_X, test_X_init, train_y, test_y = \\\n",
    "    (get_train_test_data(df_Beijing, 'PM_Dongsi', series_days, \n",
    "                         input_hours, test_hours))\n",
    "```"
   ]
  },
  {
   "cell_type": "code",
   "execution_count": 19,
   "metadata": {},
   "outputs": [],
   "source": [
    "# Exercise 1 Step 2\n"
   ]
  },
  {
   "cell_type": "markdown",
   "metadata": {},
   "source": [
    "**Step 3**: Using the extracted train data to fit a simple RNN, and use the test data to generate and plot predictions.\n",
    "\n",
    "* Start with a simple baseline -- few cell units and epochs. From here, try to make the model more expressive by increasing units and epochs until you're satisfied with the model's predictions. \n",
    "\n",
    "* Be careful not to set units and/or epochs *too* high. The model may become very slow to train and also start to badly overfit the training data with the extra complexity you've added.\n",
    "\n",
    "For reference, here's example code that you can adapt:\n",
    "```\n",
    "model = fit_SimpleRNN(train_X, train_y, cell_units=10, epochs=10)\n",
    "\n",
    "predict_and_plot(test_X_init, test_y, model,\n",
    "                 'PM Series: Test Data and Simple RNN Predictions')\n",
    "```"
   ]
  },
  {
   "cell_type": "code",
   "execution_count": 20,
   "metadata": {},
   "outputs": [],
   "source": [
    "# Exercise 1 Step 3\n"
   ]
  },
  {
   "cell_type": "markdown",
   "metadata": {},
   "source": [
    "Again, we're able to do a decent job forecasting the continuation of an uptrend. We'll likely face more difficulty if we try to predict further into the future, especially with a simple RNN. "
   ]
  },
  {
   "cell_type": "markdown",
   "metadata": {},
   "source": [
    "# Section 2: LSTM"
   ]
  },
  {
   "cell_type": "markdown",
   "metadata": {},
   "source": [
    "In this section, we'll build on our previous work by introducing LSTM models as an enhancement to the RNNs we've trained so far. Our first step will be to write a new function for fitting an LSTM with keras - notice that it's almost the same as our simple RNN function, with **LSTM** substitued for **SimpleRNN** (this is a nice display of how flexible keras is). \n",
    "\n",
    "Take some time to review the logic of the function while we go ahead and run the example cell below (it will take a while). "
   ]
  },
  {
   "cell_type": "code",
   "execution_count": 21,
   "metadata": {},
   "outputs": [],
   "source": [
    "def fit_LSTM(train_X, train_y, cell_units, epochs):\n",
    "    \"\"\"\n",
    "    Fit LSTM to data train_X, train_y \n",
    "    \n",
    "    arguments\n",
    "    ---------\n",
    "    train_X (array): input sequence samples for training \n",
    "    train_y (list): next step in sequence targets\n",
    "    cell_units (int): number of hidden units for LSTM cells  \n",
    "    epochs (int): number of training epochs   \n",
    "    \"\"\"\n",
    "    \n",
    "    # initialize model\n",
    "    model = Sequential() \n",
    "    \n",
    "    # construct a LSTM layer with specified number of hidden units\n",
    "    # per cell and desired sequence input format \n",
    "    model.add(LSTM(cell_units, input_shape=(train_X.shape[1],1)))\n",
    "    \n",
    "    # add an output layer to make final predictions \n",
    "    model.add(Dense(1))\n",
    "    \n",
    "    # define the loss function / optimization strategy, and fit\n",
    "    # the model with the desired number of passes over the data (epochs) \n",
    "    model.compile(loss='mean_squared_error', optimizer='adam')\n",
    "    model.fit(train_X, train_y, epochs=epochs, batch_size=64, verbose=0)\n",
    "    \n",
    "    return model"
   ]
  },
  {
   "cell_type": "markdown",
   "metadata": {},
   "source": [
    "#### Example 2: Train a LSTM to forecast the PM_Nongzhanguan time series\n",
    "\n",
    "With our new LSTM training function and all of our previously defined utility functions, adapting our code for LSTM forecasting will be fairly simple. We can extract the data as we did before, call the **fit_LSTM** function to build a model, and run the same *predict_and_plot* code.\n",
    "\n",
    "Remember that one of the key benefits of LSTMs over simple RNNs is that they are better equipped to handle long input sequences and long-term dependencies. To see this evidence of this, we'll set *input_hours* to 12 and *test_hours* to 96 and see how our model predictions turn out with LSTM.  "
   ]
  },
  {
   "cell_type": "code",
   "execution_count": 22,
   "metadata": {},
   "outputs": [
    {
     "data": {
      "image/png": "[encoded data removed]",
      "text/plain": [
       "<Figure size 432x288 with 1 Axes>"
      ]
     },
     "metadata": {
      "needs_background": "light"
     },
     "output_type": "display_data"
    }
   ],
   "source": [
    "series_days = 50 \n",
    "input_hours = 12\n",
    "test_hours = 96\n",
    "\n",
    "train_X, test_X_init, train_y, test_y = \\\n",
    "    (get_train_test_data(df_Beijing, 'PM_Nongzhanguan', series_days, \n",
    "                         input_hours, test_hours))\n",
    "\n",
    "model = fit_LSTM(train_X, train_y, cell_units=70, epochs=3000)\n",
    "\n",
    "predict_and_plot(test_X_init, test_y, model, \n",
    "                 'PM_Nongzhanguan Series: Test Data and LSTM Predictions')"
   ]
  },
  {
   "cell_type": "markdown",
   "metadata": {},
   "source": [
    "In our prediction plot we can start to see how LSTMs can be more expressive than simple RNNs - instead of just extrapolating a simple trend like our previous RNN models did, this LSTM model can effectively anticipate inflection points.\n",
    "\n",
    "You should also notice that our model starts to struggle toward the end of the predicted sequence, becoming more conservative in its predictions. To improve the quality of forecasts over many time steps, we'd likely need to use more data and more sophisticated LSTM model structures that are beyond the scope of this lesson.\n",
    "\n",
    "Take a look at the model summary and compare it with the summary for our simple RNN from example 1. You can see that there are many more trainable parameters for the LSTM, which explains why it took a much longer time for us to train this model."
   ]
  },
  {
   "cell_type": "code",
   "execution_count": 23,
   "metadata": {},
   "outputs": [
    {
     "name": "stdout",
     "output_type": "stream",
     "text": [
      "Model: \"sequential_3\"\n",
      "_________________________________________________________________\n",
      "Layer (type)                 Output Shape              Param #   \n",
      "=================================================================\n",
      "lstm_1 (LSTM)                (None, 70)                20160     \n",
      "_________________________________________________________________\n",
      "dense_3 (Dense)              (None, 1)                 71        \n",
      "=================================================================\n",
      "Total params: 20,231\n",
      "Trainable params: 20,231\n",
      "Non-trainable params: 0\n",
      "_________________________________________________________________\n"
     ]
    }
   ],
   "source": [
    "model.summary()"
   ]
  },
  {
   "cell_type": "markdown",
   "metadata": {},
   "source": [
    "#### Exercise 2: Train a LSTM to forecast the PM_Dongsi time series\n",
    "\n",
    "Adapt the code above from Example 2 in order to build an LSTM that forecasts the \"PM_Dongsi\" series. Use the following set of parameters:  \n",
    "\n",
    "* **series_days** : 50\n",
    "* **input_hours** : 12\n",
    "* **test_hours** : 48\n",
    "\n",
    "Remember our simple parameter tuning strategy, and that LSTMs take significantly longer to train than simple RNNs.\n",
    "\n",
    "* Start with a simple baseline -- few cell units and epochs. From here, try to make the model more expressive by increasing units and epochs until you're satisfied with the model's predictions. \n",
    "\n",
    "* Be careful not to set units and/or epochs *too* high. The model may become very slow to train and also start to badly overfit the training data with the extra complexity you've added."
   ]
  },
  {
   "cell_type": "code",
   "execution_count": 24,
   "metadata": {},
   "outputs": [],
   "source": [
    "# Exercise 2\n"
   ]
  },
  {
   "cell_type": "markdown",
   "metadata": {},
   "source": [
    "It turns out this segment of the series was a less interesting one to forecast than what we saw in example 2, but it can still demonstrate LSTMs' ability to learn patterns. \n",
    "\n",
    "In this case, the LSTM model anticipates a steady upward trend, but fails to catch the more dramatic climb toward the end of the series. Like in the example, the more steps we take into the future, the more difficult it becomes to predict well. "
   ]
  },
  {
   "cell_type": "markdown",
   "metadata": {},
   "source": [
    "#### Further Exploration\n",
    "\n",
    "The simple models we've worked with are only the tip of the iceberg for deep learning. We've been time-limited for this exercise, and typical deep learning models involve much longer training times than what we're able to do in this notebook. \n",
    "\n",
    "Here are several suggestions for how you could explore these ideas further, leveraging the code we've implemented today:\n",
    "\n",
    "* Try using longer chunks of the series we've looked at in this notebook for modeling (set series_days larger than 56), or modeling other series in the dataset.\n",
    "* When training with more data, try increasing cell_units and running more training epochs.  \n",
    "* Try using longer input sequences with LSTM, and predicting a wider range of test hours."
   ]
  },
  {
   "cell_type": "markdown",
   "metadata": {},
   "source": [
    "# Summary"
   ]
  },
  {
   "cell_type": "markdown",
   "metadata": {},
   "source": [
    "In this lesson you should have learned:\n",
    "\n",
    "1. How recurrent neural networks can be applied to sequence forecasting problems\n",
    "2. How simple RNNs and LSTMs can be built and trained using the python library keras\n",
    "3. The importance of tuning network parameters, and an introductory strategy for doing so\n",
    "\n",
    "Congratulations! This concludes the lesson."
   ]
  },
  {
   "cell_type": "code",
   "execution_count": 25,
   "metadata": {},
   "outputs": [
    {
     "name": "stdout",
     "output_type": "stream",
     "text": [
      "end\n"
     ]
    }
   ],
   "source": [
    "print('end')"
   ]
  }
 ],
 "metadata": {
  "kernelspec": {
   "display_name": "Python 3",
   "language": "python",
   "name": "python3"
  },
  "language_info": {
   "codemirror_mode": {
    "name": "ipython",
    "version": 3
   },
   "file_extension": ".py",
   "mimetype": "text/x-python",
   "name": "python",
   "nbconvert_exporter": "python",
   "pygments_lexer": "ipython3",
   "version": "3.7.3"
  }
 },
 "nbformat": 4,
 "nbformat_minor": 2
}
